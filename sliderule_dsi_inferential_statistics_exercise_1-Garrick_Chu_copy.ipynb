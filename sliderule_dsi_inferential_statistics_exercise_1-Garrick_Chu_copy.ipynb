{
 "cells": [
  {
   "cell_type": "markdown",
   "metadata": {},
   "source": [
    "# What is the True Normal Human Body Temperature? \n",
    "\n",
    "#### Background\n",
    "\n",
    "The mean normal body temperature was held to be 37$^{\\circ}$C or 98.6$^{\\circ}$F for more than 120 years since it was first conceptualized and reported by Carl Wunderlich in a famous 1868 book. But, is this value statistically correct?"
   ]
  },
  {
   "cell_type": "markdown",
   "metadata": {},
   "source": [
    "<h3>Exercises</h3>\n",
    "\n",
    "<p>In this exercise, you will analyze a dataset of human body temperatures and employ the concepts of hypothesis testing, confidence intervals, and statistical significance.</p>\n",
    "\n",
    "<p>Answer the following questions <b>in this notebook below and submit to your Github account</b>.</p> \n",
    "\n",
    "<ol>\n",
    "<li>  Is the distribution of body temperatures normal? \n",
    "    <ul>\n",
    "    <li> Although this is not a requirement for CLT to hold (read CLT carefully), it gives us some peace of mind that the population may also be normally distributed if we assume that this sample is representative of the population.\n",
    "    </ul>\n",
    "<li>  Is the sample size large? Are the observations independent?\n",
    "    <ul>\n",
    "    <li> Remember that this is a condition for the CLT, and hence the statistical tests we are using, to apply.\n",
    "    </ul>\n",
    "<li>  Is the true population mean really 98.6 degrees F?\n",
    "    <ul>\n",
    "    <li> Would you use a one-sample or two-sample test? Why?\n",
    "    <li> In this situation, is it appropriate to use the $t$ or $z$ statistic? \n",
    "    <li> Now try using the other test. How is the result be different? Why?\n",
    "    </ul>\n",
    "<li>  Draw a small sample of size 10 from the data and repeat both tests. \n",
    "    <ul>\n",
    "    <li> Which one is the correct one to use? \n",
    "    <li> What do you notice? What does this tell you about the difference in application of the $t$ and $z$ statistic?\n",
    "    </ul>\n",
    "<li>  At what temperature should we consider someone's temperature to be \"abnormal\"?\n",
    "    <ul>\n",
    "    <li> Start by computing the margin of error and confidence interval.\n",
    "    </ul>\n",
    "<li>  Is there a significant difference between males and females in normal temperature?\n",
    "    <ul>\n",
    "    <li> What test did you use and why?\n",
    "    <li> Write a story with your conclusion in the context of the original problem.\n",
    "    </ul>\n",
    "</ol>\n",
    "\n",
    "You can include written notes in notebook cells using Markdown: \n",
    "   - In the control panel at the top, choose Cell > Cell Type > Markdown\n",
    "   - Markdown syntax: http://nestacms.com/docs/creating-content/markdown-cheat-sheet\n",
    "\n",
    "#### Resources\n",
    "\n",
    "+ Information and data sources: http://www.amstat.org/publications/jse/datasets/normtemp.txt, http://www.amstat.org/publications/jse/jse_data_archive.htm\n",
    "+ Markdown syntax: http://nestacms.com/docs/creating-content/markdown-cheat-sheet\n",
    "\n",
    "****"
   ]
  },
  {
   "cell_type": "code",
   "execution_count": 105,
   "metadata": {
    "collapsed": true
   },
   "outputs": [],
   "source": [
    "import pandas as pd\n",
    "from scipy import stats\n",
    "\n",
    "df = pd.read_csv('human_temp/human_temp/data/human_body_temperature.csv')"
   ]
  },
  {
   "cell_type": "code",
   "execution_count": 106,
   "metadata": {},
   "outputs": [
    {
     "name": "stdout",
     "output_type": "stream",
     "text": [
      "<class 'pandas.core.frame.DataFrame'>\n",
      "RangeIndex: 130 entries, 0 to 129\n",
      "Data columns (total 3 columns):\n",
      "temperature    130 non-null float64\n",
      "gender         130 non-null object\n",
      "heart_rate     130 non-null float64\n",
      "dtypes: float64(2), object(1)\n",
      "memory usage: 3.1+ KB\n"
     ]
    },
    {
     "data": {
      "text/html": [
       "<div>\n",
       "<style>\n",
       "    .dataframe thead tr:only-child th {\n",
       "        text-align: right;\n",
       "    }\n",
       "\n",
       "    .dataframe thead th {\n",
       "        text-align: left;\n",
       "    }\n",
       "\n",
       "    .dataframe tbody tr th {\n",
       "        vertical-align: top;\n",
       "    }\n",
       "</style>\n",
       "<table border=\"1\" class=\"dataframe\">\n",
       "  <thead>\n",
       "    <tr style=\"text-align: right;\">\n",
       "      <th></th>\n",
       "      <th>temperature</th>\n",
       "      <th>gender</th>\n",
       "      <th>heart_rate</th>\n",
       "    </tr>\n",
       "  </thead>\n",
       "  <tbody>\n",
       "    <tr>\n",
       "      <th>0</th>\n",
       "      <td>99.3</td>\n",
       "      <td>F</td>\n",
       "      <td>68.0</td>\n",
       "    </tr>\n",
       "    <tr>\n",
       "      <th>1</th>\n",
       "      <td>98.4</td>\n",
       "      <td>F</td>\n",
       "      <td>81.0</td>\n",
       "    </tr>\n",
       "    <tr>\n",
       "      <th>2</th>\n",
       "      <td>97.8</td>\n",
       "      <td>M</td>\n",
       "      <td>73.0</td>\n",
       "    </tr>\n",
       "    <tr>\n",
       "      <th>3</th>\n",
       "      <td>99.2</td>\n",
       "      <td>F</td>\n",
       "      <td>66.0</td>\n",
       "    </tr>\n",
       "    <tr>\n",
       "      <th>4</th>\n",
       "      <td>98.0</td>\n",
       "      <td>F</td>\n",
       "      <td>73.0</td>\n",
       "    </tr>\n",
       "    <tr>\n",
       "      <th>5</th>\n",
       "      <td>99.2</td>\n",
       "      <td>M</td>\n",
       "      <td>83.0</td>\n",
       "    </tr>\n",
       "    <tr>\n",
       "      <th>6</th>\n",
       "      <td>98.0</td>\n",
       "      <td>M</td>\n",
       "      <td>71.0</td>\n",
       "    </tr>\n",
       "    <tr>\n",
       "      <th>7</th>\n",
       "      <td>98.8</td>\n",
       "      <td>M</td>\n",
       "      <td>78.0</td>\n",
       "    </tr>\n",
       "    <tr>\n",
       "      <th>8</th>\n",
       "      <td>98.4</td>\n",
       "      <td>F</td>\n",
       "      <td>84.0</td>\n",
       "    </tr>\n",
       "    <tr>\n",
       "      <th>9</th>\n",
       "      <td>98.6</td>\n",
       "      <td>F</td>\n",
       "      <td>86.0</td>\n",
       "    </tr>\n",
       "  </tbody>\n",
       "</table>\n",
       "</div>"
      ],
      "text/plain": [
       "   temperature gender  heart_rate\n",
       "0         99.3      F        68.0\n",
       "1         98.4      F        81.0\n",
       "2         97.8      M        73.0\n",
       "3         99.2      F        66.0\n",
       "4         98.0      F        73.0\n",
       "5         99.2      M        83.0\n",
       "6         98.0      M        71.0\n",
       "7         98.8      M        78.0\n",
       "8         98.4      F        84.0\n",
       "9         98.6      F        86.0"
      ]
     },
     "execution_count": 106,
     "metadata": {},
     "output_type": "execute_result"
    }
   ],
   "source": [
    "# Your work here.\n",
    "# getting a feel of the dataset and examining the data\n",
    "df.info()\n",
    "df.head(10)"
   ]
  },
  {
   "cell_type": "markdown",
   "metadata": {},
   "source": [
    "### Q1) Is the distribution of body temperatures normal? \n",
    "\n",
    "Normal distributions are characterized as being symmetrical, unimodal/bell-shaped, with roughly 68% of the observations falling within 1 standard deviation of the mean AND roughly 95% falling within 1.96 standard deviations of the mean.  "
   ]
  },
  {
   "cell_type": "code",
   "execution_count": 107,
   "metadata": {},
   "outputs": [
    {
     "data": {
      "image/png": "[encoded data removed]",
      "text/plain": [
       "<matplotlib.figure.Figure at 0x19c024f1080>"
      ]
     },
     "metadata": {},
     "output_type": "display_data"
    }
   ],
   "source": [
    "#plotting the sample data\n",
    "import matplotlib.pyplot as plt\n",
    "fig, ax = plt.subplots(figsize=(8,5))\n",
    "%matplotlib inline\n",
    "plt.style.use('bmh')\n",
    "\n",
    "import numpy as np\n",
    "\n",
    "#declaring bin size. bin size is defined here by using the square-root rule (taking square root of the # of samples)\n",
    "n_bins = int(np.sqrt(len(df['temperature'])))\n",
    "\n",
    "_ = plt.hist(df['temperature'], bins=n_bins) \n",
    "_ = plt.xlabel('Body Temperature')\n",
    "_ = plt.ylabel('Number of Observations')\n",
    "plt.show()"
   ]
  },
  {
   "cell_type": "markdown",
   "metadata": {},
   "source": [
    "Distribution of body temperatures appear to be roughly symmetrical and bell-shaped. \n",
    "\n",
    "Now, let's check the normality (if any) from the data set.  This data will also be used for later inference..."
   ]
  },
  {
   "cell_type": "code",
   "execution_count": 108,
   "metadata": {
    "collapsed": true
   },
   "outputs": [],
   "source": [
    "#defining Empirical Cumulative Distribution Function to plot sample cumulative distribution vs. the theoretical normal\n",
    "\n",
    "def ecdf(data):\n",
    "    \"\"\"Compute ECDF for a one-dimensional array of measurements.\"\"\"\n",
    "\n",
    "    # Number of data points: n\n",
    "    n = len(data)\n",
    "\n",
    "    # x-data for the ECDF: x\n",
    "    x = np.sort(data)\n",
    "\n",
    "    # y-data for the ECDF: y\n",
    "    y = np.arange(1, n+1) / n\n",
    "\n",
    "    return x, y\n"
   ]
  },
  {
   "cell_type": "code",
   "execution_count": 109,
   "metadata": {
    "collapsed": true
   },
   "outputs": [],
   "source": [
    "#obtaining mean and standard dev. from sample data to model and plot a theoretical normal distribution\n",
    "\n",
    "mean_temp = np.mean(df['temperature'])\n",
    "std_temp = np.std(df['temperature'])\n",
    "temp_samples = np.random.normal(mean_temp, std_temp, size=10000)\n",
    "\n",
    "x_temp, y_temp = ecdf(df['temperature'])\n",
    "x_theor, y_theor = ecdf(temp_samples)"
   ]
  },
  {
   "cell_type": "code",
   "execution_count": 110,
   "metadata": {},
   "outputs": [
    {
     "data": {
      "image/png": "[encoded data removed]",
      "text/plain": [
       "<matplotlib.figure.Figure at 0x19c7feb66a0>"
      ]
     },
     "metadata": {},
     "output_type": "display_data"
    }
   ],
   "source": [
    "import seaborn as sns\n",
    "sns.set()\n",
    "\n",
    "\n",
    "_ = plt.plot(x_theor, y_theor)\n",
    "_ = plt.plot(x_temp, y_temp, marker='.', linestyle='none')\n",
    "_ = plt.xlabel('body temperature')\n",
    "_ = plt.ylabel('ecdf')\n",
    "_ = plt.legend(['Theoretical Normal CDF', 'Sample CDF'])\n",
    "plt.margins(0.02)\n",
    "plt.show()\n"
   ]
  },
  {
   "cell_type": "markdown",
   "metadata": {},
   "source": [
    "In the above plot, the blue solid line represents the empirical cumulative distribution of body temperatures given the sample mean and sample standard deviation and modeled as a normal distribution.  \n",
    "\n",
    "The green dots represent the ECDF of body temperatures from the sample data.  We also see that the ECDF of the sample data is very closely aligned with the ECDF of a presumed normal distribution (using the sample mean and standard deviation). \n",
    "\n",
    "For the sake of thoroughness, let us also check to see if the sample set confirms to the 68% and 95% rule. The resulting values can be cross-referenced with the above plot. In fact, we do see at lest 68% of the observations are below 98.98 degrees and that at least 95% of the observations are roughly below 99.68 degrees.  "
   ]
  },
  {
   "cell_type": "code",
   "execution_count": 111,
   "metadata": {},
   "outputs": [
    {
     "name": "stdout",
     "output_type": "stream",
     "text": [
      "We expect to find roughly 68% of the observations below a body temperature value of:  98.97958854813581\n",
      "We expect to find roughly 95% of the observations below a body temperature value of:  99.68073201588466\n",
      "[ 98.6  99.3]\n",
      "The sample mean is:  98.24923076923078\n",
      "The sample standard deviation is:  0.7303577789050377\n"
     ]
    }
   ],
   "source": [
    "print('We expect to find roughly 68% of the observations below a body temperature value of: ', \n",
    "      mean_temp + std_temp)\n",
    "print('We expect to find roughly 95% of the observations below a body temperature value of: ', \n",
    "      mean_temp + (1.96*std_temp))\n",
    "\n",
    "print(np.percentile(df['temperature'], [68,95]))\n",
    "\n",
    "print('The sample mean is: ', mean_temp)\n",
    "print('The sample standard deviation is: ', std_temp)"
   ]
  },
  {
   "cell_type": "markdown",
   "metadata": {},
   "source": [
    "**Conclusion 1:** The sample data is normally distributed as a) the distribution of the observations is roughly symmetrical and bimodal, b) the CDF of the sample data is closely aligned with a CDF of a sample set that is modeled as a normal distribution and c) the sample set conforms to the characteristic that 68% of observations are within 1 standard deviation and that 95% of observations are within 1.96 standard deviations.\n"
   ]
  },
  {
   "cell_type": "markdown",
   "metadata": {},
   "source": [
    "### Q2) Is the sample size large? Are the observations independent? \n",
    "\n",
    "A sample size (n) greater than 30 is considered large.  We will examing the data set if the sample size is greater or less than 30.  We will also examine the data to determine if they are independent (that is, each observation/row is unique)."
   ]
  },
  {
   "cell_type": "code",
   "execution_count": 112,
   "metadata": {},
   "outputs": [
    {
     "name": "stdout",
     "output_type": "stream",
     "text": [
      "The temperature column contains  130 observations.\n"
     ]
    },
    {
     "data": {
      "text/html": [
       "<div>\n",
       "<style>\n",
       "    .dataframe thead tr:only-child th {\n",
       "        text-align: right;\n",
       "    }\n",
       "\n",
       "    .dataframe thead th {\n",
       "        text-align: left;\n",
       "    }\n",
       "\n",
       "    .dataframe tbody tr th {\n",
       "        vertical-align: top;\n",
       "    }\n",
       "</style>\n",
       "<table border=\"1\" class=\"dataframe\">\n",
       "  <thead>\n",
       "    <tr style=\"text-align: right;\">\n",
       "      <th></th>\n",
       "      <th>temperature</th>\n",
       "      <th>gender</th>\n",
       "      <th>heart_rate</th>\n",
       "    </tr>\n",
       "  </thead>\n",
       "  <tbody>\n",
       "    <tr>\n",
       "      <th>0</th>\n",
       "      <td>99.3</td>\n",
       "      <td>F</td>\n",
       "      <td>68.0</td>\n",
       "    </tr>\n",
       "    <tr>\n",
       "      <th>1</th>\n",
       "      <td>98.4</td>\n",
       "      <td>F</td>\n",
       "      <td>81.0</td>\n",
       "    </tr>\n",
       "    <tr>\n",
       "      <th>2</th>\n",
       "      <td>97.8</td>\n",
       "      <td>M</td>\n",
       "      <td>73.0</td>\n",
       "    </tr>\n",
       "    <tr>\n",
       "      <th>3</th>\n",
       "      <td>99.2</td>\n",
       "      <td>F</td>\n",
       "      <td>66.0</td>\n",
       "    </tr>\n",
       "    <tr>\n",
       "      <th>4</th>\n",
       "      <td>98.0</td>\n",
       "      <td>F</td>\n",
       "      <td>73.0</td>\n",
       "    </tr>\n",
       "  </tbody>\n",
       "</table>\n",
       "</div>"
      ],
      "text/plain": [
       "   temperature gender  heart_rate\n",
       "0         99.3      F        68.0\n",
       "1         98.4      F        81.0\n",
       "2         97.8      M        73.0\n",
       "3         99.2      F        66.0\n",
       "4         98.0      F        73.0"
      ]
     },
     "execution_count": 112,
     "metadata": {},
     "output_type": "execute_result"
    }
   ],
   "source": [
    "print('The temperature column contains ', len(df['temperature']), 'observations.')\n",
    "df.head()"
   ]
  },
  {
   "cell_type": "markdown",
   "metadata": {},
   "source": [
    "**Conclusion 2:** The dataset contains 130 data points and thus we can consider the sample size to be large.  Secondly, we are unable to assume the observations are independent as it is not evident whether these observations are unique people (and thus independent) or just periodic sampling of one male and one female subject.  Furthermore, one can infer that heart rate can be a factor which affects body temperature.  "
   ]
  },
  {
   "cell_type": "markdown",
   "metadata": {
    "collapsed": true
   },
   "source": [
    "### Question 3) Is the true population mean really 98.6 degrees F?\n",
    "\n",
    "    *Would you use a one-sample or two-sample test? Why?\n",
    "    *In this situation, is it appropriate to use the t or z statistic?\n",
    "    *Now try using the other test. How is the result be different? Why? \n"
   ]
  },
  {
   "cell_type": "markdown",
   "metadata": {},
   "source": [
    "### Conclusion 3: \n",
    "\n",
    "To investigate this question, we will need to frame our hypothesis for testing.  For this test, we will use a one-sample test since we are only given one sample data set.  I have determined the hypothesis (with a confidence level of 95% as follows:\n",
    "\n",
    "    *(Null Hypothesis) Ho: True mean population temperature = 98.6 F \n",
    "    **...or, Ho: μ1 = μ2\n",
    "    *(Alternative Hypothesis) Ha: True mean population temperature ≠ 98.6 F \n",
    "    **...or, H1: μ1 ≠ μ2\n",
    "\n",
    "For this situation, we will be computing a t-test since we are comparing our sample mean (98.25) against a proposed population mean (98.6).  For the test, we will reject the null hypothesis if the test statistic is greater than 1.96 standard deviations or outside of a 95% confidence level)."
   ]
  },
  {
   "cell_type": "code",
   "execution_count": 113,
   "metadata": {},
   "outputs": [
    {
     "name": "stdout",
     "output_type": "stream",
     "text": [
      "The T-Statistic is 5 with a p-value of 2.41063204156e-07\n"
     ]
    }
   ],
   "source": [
    "mu = 98.6\n",
    "\n",
    "tstat, t_pval = stats.ttest_1samp(a=df['temperature'], popmean=mu)\n",
    "print('The T-Statistic is %d with a p-value of %s' %(abs(tstat),t_pval))"
   ]
  },
  {
   "cell_type": "markdown",
   "metadata": {},
   "source": [
    "Our test returns a t-statistic of 5.45. This means that we would observe a mean of 98.6 at 5.45 standard deviations from our sample mean.  \n",
    "\n",
    "\n",
    "Furthermore, our P-value can be considered very small and suggests a very low probability of observing a body temperature of 98.6 or greater. \n",
    "\n",
    "\n",
    "As we increase our sample size, our t-test will converge to yield a similar result as a z-test. \n",
    "\n",
    "\n",
    "In the below test, we arrive to the same conclusion as the z-stat suggests that a population mean of 98.6 would be observed more than 5 standard deviations from a population mean as determined by our sample.  We find that our P-value in this test is even smaller than our t-test and suggests an even smaller probability that we would observe a population mean greater than 98.6\n"
   ]
  },
  {
   "cell_type": "code",
   "execution_count": 114,
   "metadata": {},
   "outputs": [
    {
     "name": "stdout",
     "output_type": "stream",
     "text": [
      "The Z-Statistic is 5 with a p-value of 4.9021570141e-08\n"
     ]
    }
   ],
   "source": [
    "from statsmodels.stats.weightstats import ztest\n",
    "z_score, z_pval = ztest(df['temperature'],value=98.6)\n",
    "print('The Z-Statistic is %d with a p-value of %s' %(abs(z_score),z_pval))"
   ]
  },
  {
   "cell_type": "markdown",
   "metadata": {},
   "source": [
    "### Q4) Draw a small sample of size 10 from the data and repeat both tests.\n",
    "\n",
    "    *Which one is the correct one to use?\n",
    "    *What do you notice? What does this tell you about the difference in application of the tt and zz statistic?\n",
    "    \n",
    "The z-test would be more appropriate as we are now comparing the means from two different samples. "
   ]
  },
  {
   "cell_type": "code",
   "execution_count": 115,
   "metadata": {},
   "outputs": [
    {
     "name": "stdout",
     "output_type": "stream",
     "text": [
      "Given the new sample, the T-Statistic is 1 with a p-value of 0.30930267922\n",
      "Given the new sample, the Z-Statistic is 1 with a p-value of 0.281271432868\n"
     ]
    }
   ],
   "source": [
    "#getting a random sample of 10 observations\n",
    "np.random.seed(7)\n",
    "rand_samp = np.random.choice(df['temperature'], size=10)\n",
    "\n",
    "#t-test, the more appropriate test with a sample size >30\n",
    "rs_ttest,rs_t_pval = stats.ttest_1samp(a=rand_samp, popmean=mu)\n",
    "\n",
    "#repeating with z-test\n",
    "rs_zscore, rs_z_pval = ztest(rand_samp,value=98.6)\n",
    "\n",
    "#results\n",
    "print('Given the new sample, the T-Statistic is %d with a p-value of %s' %(abs(rs_ttest),rs_t_pval))\n",
    "print('Given the new sample, the Z-Statistic is %d with a p-value of %s' %(abs(rs_zscore), rs_z_pval))"
   ]
  },
  {
   "cell_type": "markdown",
   "metadata": {},
   "source": [
    "### Conclusion 4)\n",
    "\n",
    "The correct test to use in the case of random sample of size=10 is a t-test.  We notice that the statistic is 1 standard deviation in both tests.  If we assume a confidence level of 95% or 1.96 standard deviations, then we fail to reject the null hypothesis in both tests.\n",
    "\n",
    "However, our results are not stastically significant as our P-value is very high at ~0.30.  This suggests that we can anticipate a high probability that we will observe test statistics greater than our results.  In other words, a ~30% change we can observe a higher test statistic which can lead us to a different hypothesis acceptance.  "
   ]
  },
  {
   "cell_type": "markdown",
   "metadata": {},
   "source": [
    "### Q5)At what temperature should we consider someone's temperature to be \"abnormal\"?\n",
    "\n",
    "    Start by computing the margin of error and confidence interval. "
   ]
  },
  {
   "cell_type": "code",
   "execution_count": 116,
   "metadata": {},
   "outputs": [
    {
     "name": "stdout",
     "output_type": "stream",
     "text": [
      "The standard error/margin of error is 0.0640566146952\n",
      "At the 95% level, the lower bound of our confidence interval is  98.1220029056  and the upper bound is  98.3764586329\n"
     ]
    }
   ],
   "source": [
    "n=len(df['temperature'])\n",
    "\n",
    "#standard error\n",
    "std_error = std_temp / np.sqrt(n)\n",
    "print('The standard error/margin of error is %s' %std_error)\n",
    "\n",
    "#compute confidence interval at the 95% level\n",
    "conf_int = stats.t.interval(alpha = .95, df = n-1, loc = mean_temp,\n",
    "                 scale=stats.sem(df['temperature']))\n",
    "print('At the 95% level, the lower bound of our confidence interval is ',conf_int[0], \n",
    "      ' and the upper bound is ',conf_int[1]) \n"
   ]
  },
  {
   "cell_type": "markdown",
   "metadata": {},
   "source": [
    "### Conclusion 4: \n",
    "Given our confidence interval, we would consider someone's body temperature lower than 98.12 or higher than 98.37 to be considered abnormal. That is, we expect only 5% of the population to have a body temp <98.12 or >98.37."
   ]
  },
  {
   "cell_type": "markdown",
   "metadata": {},
   "source": [
    "### Q6) Is there a significant difference between males and females in normal temperature?\n",
    "\n",
    "    What test did you use and why?\n",
    "    Write a story with your conclusion in the context of the original problem. "
   ]
  },
  {
   "cell_type": "code",
   "execution_count": 117,
   "metadata": {},
   "outputs": [
    {
     "name": "stdout",
     "output_type": "stream",
     "text": [
      "Mean body temp of male samples:  98.1046153846154\n",
      "Mean body temp of female samples:  98.39384615384613\n",
      "The T-Statistic is 2 with a p-value of 0.0239382641829\n"
     ]
    }
   ],
   "source": [
    "#we can again use a t-test as we are comparing the means from two samples\n",
    "male_temps = df.temperature[df.gender == 'M']\n",
    "female_temps = df.temperature[df.gender == 'F']\n",
    "\n",
    "print('Mean body temp of male samples: ', np.mean(male_temps))\n",
    "print('Mean body temp of female samples: ', np.mean(female_temps))\n",
    "\n",
    "gender_ttest, gender_pval = stats.ttest_ind(a=male_temps, b=female_temps, equal_var=False)\n",
    "print('The T-Statistic is %d with a p-value of %s' %(abs(gender_ttest), gender_pval))"
   ]
  },
  {
   "cell_type": "markdown",
   "metadata": {},
   "source": [
    "### Conclusion 6:\n",
    "At the 95% confidence level, our hypothesis test would be:\n",
    "\n",
    "*(Null Hypothesis) Ho: Normal Male temperature = Normal Female Temperature\n",
    "\n",
    "*(Alternative Hypothesis) Ha: Normal Male temperature ≠ Normal Female Temperature\n",
    "\n",
    "We would reject the null hypothesis if our test statistic value was > 1.96 standard deviations (95% confidence level)\n",
    "\n",
    "In this case, we would reject the null hypothesis in favor of the alternative which suggests a statistically significant difference between males and females (further evidenced by a relatively small p-value).  Because of this finding, it may be warranted to revisit the original question in the context of gender.  If males and females body temps seem to differ substantially, we may come to different conclusions if we compared our samples by gender and our population mean (by gender). "
   ]
  }
 ],
 "metadata": {
  "kernelspec": {
   "display_name": "Python 3",
   "language": "python",
   "name": "python3"
  },
  "language_info": {
   "codemirror_mode": {
    "name": "ipython",
    "version": 3
   },
   "file_extension": ".py",
   "mimetype": "text/x-python",
   "name": "python",
   "nbconvert_exporter": "python",
   "pygments_lexer": "ipython3",
   "version": "3.6.2"
  }
 },
 "nbformat": 4,
 "nbformat_minor": 1
}
